{
 "cells": [
  {
   "cell_type": "markdown",
   "metadata": {},
   "source": [
    "# GS1 Digital Link URI Verifier for EPCIS\n",
    "### Purpose of this notebook: \n",
    "* Basis for discussion in EPCIS/CBV 2.0 MSWG\n",
    "* Potential starting point of an open source artefact to help in applying constrained GS1 Digital Link URIs for populating EPCIS events \n",
    "\n",
    "### Functionality:\n",
    "* Checks whether a list of GS1 DL URIs conforms to the constrained syntax as defined in CBV 2.0\n",
    "* Specifically:\n",
    " * checks if GS1 DL URIs only comprise the primary identifier at the lowest, i.e. most precise level so that they correspond to the EPC URI/EPC Class URI schemes as defined in the EPC Tag Data Standard\n",
    " * accepts any user domain/sub-domain (i.e. not just canonical GS1 DL URIs)\n",
    " * checks that if a GS1 DL URI includes a GTIN, the latter is represented in its 14-digit format so that it is consistent with the definition of GS1 Application Identifier '01' \n",
    "* Input: list of Digital Link URIs (as they are intended to populate the epcList/quantityList)\n",
    "* Output: list of Boolean values, in identical order as the input list, either 'True' (if conformant) or 'false' (if not) for each list element\n",
    "* Supported instance-level keys/compound keys: \n",
    " * SSCC \n",
    " * GTIN + Serial (SGTIN)\n",
    " * UPUI\n",
    " * GDTI with serial\n",
    " * GCN with serial\n",
    " * GINC\n",
    " * GSIN \n",
    "* Supported class-level keys/compound keys: \n",
    " * GTIN\n",
    " * GTIN + Lot (LGTIN)\n",
    " * GDTI without serial\n",
    " * GCN without serial\n",
    "* Supported location/party keys:\n",
    " * GLN with extension\n",
    " * GLN without extension\n",
    " * Party GLN\n",
    "\n",
    "### Status: DRAFT (for discussion purposes)"
   ]
  },
  {
   "cell_type": "code",
   "execution_count": 17,
   "metadata": {},
   "outputs": [],
   "source": [
    "import re"
   ]
  },
  {
   "cell_type": "markdown",
   "metadata": {},
   "source": [
    "The following list contains instance-level ID candidates for populating the epcList (and equivalent ID lists depending on the EPCIS event type) with constraint GS1 Digital Link URIs. "
   ]
  },
  {
   "cell_type": "code",
   "execution_count": 18,
   "metadata": {},
   "outputs": [],
   "source": [
    "dlURIEPCList = [\n",
    "    'https://id.gs1.org/00/340123451111111111',\n",
    "    'https://example.com/01/04150567890128/21/987654',\n",
    "    'https://example.com/01/04150567890128/235/UPUISERIALNUMBER987654324151',\n",
    "    'https://id.gs1.org/253/4602443000331XYZ',\n",
    "    'https://id.gs1.org/255/0811625999996554433',\n",
    "    'https://id.gs1.org/401/401234522233ABcd',\n",
    "    'https://id.gs1.org/402/40123452223334442',\n",
    "\n",
    "    'https://id.gs1.org/414/4226350800008',\n",
    "    'https://example.co.uk/417/4226350800008',\n",
    "    'https://id.gs1.org/414/4280000000002/254/12',\n",
    "    'https://id.gs1.org/8003/03870585000552987',\n",
    "    'https://id.gs1.org/8004/0180451111ABC987',\n",
    "    'https://id.gs1.org/8018/385888700111111111',\n",
    "    'https://id.gs1.org/8017/440018922222222226', \n",
    "    'https://id.gs1.org/8010/0628165987/8011/9876',\n",
    "    'https://id.gs1.org/255/0811625999996554433',\n",
    "    'https://id.gs1.org/sscc/340123451111111111',\n",
    "    'https://id.gs1.org/00/340123451111111111/',\n",
    "    'https://www.someURL.info/01/02/03/04',\n",
    "    'https://id.gs1.org/01/9780345418913/22/344',\n",
    "    'https://id.gs1.org/01/9780345418913/22/344/10/1223/21/765tz',\n",
    "    'https://id.gs1.org/8006/123456789101100190/22/ABCD',\n",
    "    'https://example.org/01/9780345418913/21/765tz?11=221109',\n",
    "    'https://example.org/01/9780345418913/21/765tz?abc=211121',\n",
    "    'http://example.org/123/4012345ABC987/456/4711',\n",
    "    'http://id.gs1.org/01/9780345418913/99/utfgf',\n",
    "    'https://example.com/01/04150567890128/235/UPUISERIALNUMBER9876543241516161',\n",
    "    'https://example.com/01/04150567890128/21/',\n",
    "    'https://id.gs1.org/253/4602443000331',\n",
    "    '(01)04012345123456(21)987',\n",
    "    '01/04012345123456/21/987',\n",
    "    'https://example.com/01/04150567890128/ 21/',\n",
    "    'ftp://example.com/01/04150567890128/21/123',\n",
    "    'https://id.gs1.org/01/04012345123456'\n",
    "    \n",
    "\n",
    "]"
   ]
  },
  {
   "cell_type": "markdown",
   "metadata": {},
   "source": [
    "With the following regular expression, organisations can verify that an epcList (and equivalent ID lists depending on the EPCIS event type) are valid constraint GS1 Digital Link URIs. \n",
    "The above list is passed to a re.match() function and returns a list with a Boolean value for each list element. If the return value is 'False', the ID candidate is not a valid instance-level, constrained GS1 DL URI. "
   ]
  },
  {
   "cell_type": "code",
   "execution_count": 19,
   "metadata": {},
   "outputs": [
    {
     "name": "stdout",
     "output_type": "stream",
     "text": [
      "['True', 'True', 'True', 'True', 'True', 'True', 'True', 'False', 'False', 'False', 'False', 'False', 'False', 'False', 'False', 'True', 'False', 'False', 'False', 'False', 'False', 'False', 'False', 'False', 'False', 'False', 'False', 'False', 'False', 'False', 'False', 'False', 'False', 'False']\n"
     ]
    }
   ],
   "source": [
    "validatedEPCList = []\n",
    "for j in dlURIEPCList:\n",
    "    mO = re.match(r'''https?:(//((([^/?#]*)@)?([^/?#:]*)(:([^/?#]*))?))?([^?#]*)/( # domain/sub-domain\n",
    "                    (00/\\d{18}$)| # SSCC\n",
    "                    # Allowed chars in serial reference as of GS1 DL standard: \" / % / - / . / 0-9 / A-Z / _ / a-z\n",
    "                    (01/\\d{14}/21/([\\x22\\x25\\x2d\\x2E\\x30-\\x39\\x41-\\x5A\\x5F\\x61-\\x7A]{1,20})$)| # SGTIN\n",
    "                    (01/\\d{14}/235/([\\x22\\x25\\x2d\\x2E\\x30-\\x39\\x41-\\x5A\\x5F\\x61-\\x7A]{1,28})$)| # UPUI\n",
    "                    (253/\\d{13}([\\x22\\x25\\x2d\\x2E\\x30-\\x39\\x41-\\x5A\\x5F\\x61-\\x7A]{1,17})$)| # GDTI with serial\n",
    "                    (255/\\d{13}(\\d{1,12})$)| # GCN with serial\n",
    "                    (401/([\\x22\\x25\\x2d\\x2E\\x30-\\x39\\x41-\\x5A\\x5F\\x61-\\x7A]{5,30})$)| # GINC \n",
    "                    # Lower quantifier of GINC TBD. Rationale for '5': GCP >= 4 Digits \n",
    "                    # May adjust https://www.gs1.org/standards/barcodes/application-identifiers/401?lang=en\n",
    "                    (402/\\d{17}$) # GSIN \n",
    "                    # TO BE COMPLETED   \n",
    "                    ) ''', j, re.VERBOSE)\n",
    "    if mO:\n",
    "        validatedEPCList.append('True')\n",
    "    else:\n",
    "        validatedEPCList.append('False')\n",
    "print (validatedEPCList)"
   ]
  },
  {
   "cell_type": "markdown",
   "metadata": {},
   "source": [
    "The following list contains class-level ID candidates for populating the quantityList (and equivalent ID lists depending on the EPCIS event type) with constraint GS1 Digital Link URIs."
   ]
  },
  {
   "cell_type": "code",
   "execution_count": 20,
   "metadata": {},
   "outputs": [],
   "source": [
    "dlURIQtyList = [\n",
    "    'https://id.gs1.org/01/04012345123456',\n",
    "    'https://gs1.dl.uri.with.a.lot.of.sub.domains.test.example.org/01/09780345418913/10/1223',\n",
    "    'https://id.firma.info/01/04012345123456/10/ABC',\n",
    "    'http://www.id.example.de/01/04012345123456',\n",
    "    'https://id.gs1.org/253/4602443000331',\n",
    "    'https://id.gs1.org/255/0811625999996',\n",
    "    \n",
    "    'https://id.example.com/01/4012345123456',\n",
    "    'http://us-company-with-UPC.com/01/001122334455/ser/GHB',\n",
    "    'https://id.gs1.org/01/12345670',\n",
    "    'https://id.gs1.org/01/9780345418913/10/Lot1/21/Ser2',\n",
    "    'https://id.gs1.org/01/9780345418913/22/344/10/1223/21/765tz',\n",
    "    'https://id.gs1.org/01/9780345418913/10/Lot666/21/Ser888',\n",
    "]"
   ]
  },
  {
   "cell_type": "markdown",
   "metadata": {},
   "source": [
    "With the following regular expression, organisations can verify that a quantityList (and equivalent ID lists depending on the EPCIS event type) are valid constraint GS1 Digital Link URIs. The above list is passed to a re.match() function and returns a list with a Booloean value for each list element. If the return value is 'False', the ID candidate is not a valid class-level, constrained GS1 DL URI."
   ]
  },
  {
   "cell_type": "code",
   "execution_count": 21,
   "metadata": {},
   "outputs": [
    {
     "name": "stdout",
     "output_type": "stream",
     "text": [
      "['True', 'True', 'True', 'True', 'True', 'True', 'False', 'False', 'False', 'False', 'False', 'False']\n"
     ]
    }
   ],
   "source": [
    "validatedQtyList = []\n",
    "for j in dlURIQtyList:\n",
    "    mO = re.match(r'''https?:(//((([^/?#]*)@)?([^/?#:]*)(:([^/?#]*))?))?([^?#]*)/( # domain/sub-domain\n",
    "                    (01/\\d{14}$)| # GTIN without serial\n",
    "                    (01/\\d{14}/10/([\\x22\\x25\\x2d\\x2E\\x30-\\x39\\x41-\\x5A\\x5F\\x61-\\x7A]{1,20})$)| # LGTIN\n",
    "                    (253/\\d{13}$)| # GDTI without serial\n",
    "                    (255/\\d{13}$) # GCN without serial\n",
    "                    # TO BE COMPLETED   \n",
    "                    ) ''', j, re.VERBOSE)\n",
    "    if mO:\n",
    "        validatedQtyList.append('True')\n",
    "    else:\n",
    "        validatedQtyList.append('False')\n",
    "print (validatedQtyList)"
   ]
  },
  {
   "cell_type": "markdown",
   "metadata": {},
   "source": [
    "The following list contains ID candidates for populating the readPoint/bizLocation/sourceList/destinationList with constraint GS1 Digital Link URIs."
   ]
  },
  {
   "cell_type": "code",
   "execution_count": 22,
   "metadata": {},
   "outputs": [],
   "source": [
    "dlURILoPaList = [\n",
    "    'https://id.gs1.org/414/4280000000002/254/12',\n",
    "    'https://id.gs1.org/414/4226350800008',\n",
    "    'https://id.gs1.org/417/4012345999990',\n",
    "    \n",
    "    'https://id.gs1.org/414/4226350800008/',\n",
    "    'https://id.gs1.org/417/401234599999',\n",
    "    'https://id.gs1.org/gln/4226350800008',\n",
    "    'https://id.gs1.org/414/4280000000002/glnx/12',\n",
    "    'https://id.gs1.org/party/4012345999990',\n",
    "]"
   ]
  },
  {
   "cell_type": "code",
   "execution_count": 23,
   "metadata": {},
   "outputs": [
    {
     "name": "stdout",
     "output_type": "stream",
     "text": [
      "['True', 'True', 'True', 'False', 'False', 'False', 'False', 'False']\n"
     ]
    }
   ],
   "source": [
    "validatedLoPaList = []\n",
    "for j in dlURILoPaList:\n",
    "    mO = re.match(r'''https?:(//((([^/?#]*)@)?([^/?#:]*)(:([^/?#]*))?))?([^?#]*)/( # domain/sub-domain\n",
    "                    (414/\\d{13}$)| # GLN without extension\n",
    "                    (414/\\d{13}/254/([\\x22\\x25\\x2d\\x2E\\x30-\\x39\\x41-\\x5A\\x5F\\x61-\\x7A]{1,20})$)|# GLN with extension\n",
    "                    (417/\\d{13}$) # Party GLN\n",
    "                    ) ''', j, re.VERBOSE)\n",
    "    if mO:\n",
    "        validatedLoPaList.append('True')\n",
    "    else:\n",
    "        validatedLoPaList.append('False')\n",
    "print (validatedLoPaList)"
   ]
  },
  {
   "cell_type": "markdown",
   "metadata": {},
   "source": [
    "### Invalid examples (i.e. those returning 'False') cover the following cases:\n",
    "* GTIN not formatted as GTIN-14 (i.e. corresponding to definition of GS1 Application Identifier (AI) '01')\n",
    "* Applying short names instead of AI equivalents\n",
    "* GTIN-based GS1 DL URI comprising consumer product variant (AI '22') \n",
    "* GTIN-based GS1 DL URI comprising lot (AI 10) AND serial (AI 21) as key qualifiers (note: only one is allowed at a time)\n",
    "* Containing characters that need to be percent-encoded \n",
    "* Ending with a trailing slash \n",
    "* AI equivalents in the query string\n",
    "* Custom extensions in the query string\n",
    "* Comprising non-existent AIs\n",
    "* Data payload (e.g. serial number) exceeding character limit as defined per GS1 General Specifications\n",
    "* Empty fields (e.g. batch number or serial number without content)\n",
    "* Lacking a domain name\n",
    "* Containing space characters\n",
    "* Class-level (instead of instance-level) ID and vice versa"
   ]
  }
 ],
 "metadata": {
  "kernelspec": {
   "display_name": "Python 3",
   "language": "python",
   "name": "python3"
  },
  "language_info": {
   "codemirror_mode": {
    "name": "ipython",
    "version": 3
   },
   "file_extension": ".py",
   "mimetype": "text/x-python",
   "name": "python",
   "nbconvert_exporter": "python",
   "pygments_lexer": "ipython3",
   "version": "3.7.3"
  }
 },
 "nbformat": 4,
 "nbformat_minor": 4
}
