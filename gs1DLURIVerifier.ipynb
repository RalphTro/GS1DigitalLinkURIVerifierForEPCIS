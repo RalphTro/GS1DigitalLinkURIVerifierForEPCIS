{
 "cells": [
  {
   "cell_type": "markdown",
   "metadata": {},
   "source": [
    "# GS1 Digital Link URI Verifier for EPCIS\n",
    "### Purpose of this notebook: \n",
    "* Basis for discussion in EPCIS/CBV 2.0 MSWG\n",
    "* Potential starting point of an open source artefact to help in applying constrained GS1 Digital Link URIs for populating the *what* dimension (i.e. epcList and quantityList) of EPCIS events \n",
    "\n",
    "### Functionality:\n",
    "* Checks whether a list of GS1 DL URIs conforms to the constrained syntax as defined in CBV 2.0\n",
    "* Specifically:\n",
    " * checks if GS1 DL URIs only comprise the primary identifier at the lowest, i.e. most precise level so that they correspond to the EPC URI/EPC Class URI schemes as defined in the EPC Tag Data Standard\n",
    " * accepts any user domain/sub-domain\n",
    " * checks, if a GS1 DL URI includes a GTIN, the latter is represented in its GTIN-14 format so that it is consistent with the definition of GS1 Application Identifier '01' \n",
    "* Input: list of Digital Link URIs (as they are intended to populate the epcList/quantityList)\n",
    "* Output: either 'True' (if conformant) or 'false' (if not) for each list element\n",
    "* Supported Keys/Compound Keys: \n",
    " * GTIN, GTIN + Lot (LGTIN), GTIN + Serial (SGTIN)\n",
    " * SSCC \n",
    " * UPUI\n",
    "\n",
    "### Status: DRAFT (for discussion purposes)"
   ]
  },
  {
   "cell_type": "code",
   "execution_count": 3,
   "metadata": {},
   "outputs": [],
   "source": [
    "import re"
   ]
  },
  {
   "cell_type": "code",
   "execution_count": 4,
   "metadata": {},
   "outputs": [],
   "source": [
    "dlURIList = [\n",
    "    'https://id.gs1.org/00/340123451111111111',\n",
    "    'https://id.gs1.org/01/04012345123456',\n",
    "    'https://id.gs1.org/01/04012345123456/10/ABC',\n",
    "    'https://example.com/01/04150567890128/21/987654',\n",
    "    'https://id.gs1.org/01/061414155557',\n",
    "    'https://id.gs1.org/01/12345670',\n",
    "    'https://id.gs1.org/sscc/340123451111111111'\n",
    "    \n",
    "\n",
    "]"
   ]
  },
  {
   "cell_type": "code",
   "execution_count": 5,
   "metadata": {},
   "outputs": [
    {
     "name": "stdout",
     "output_type": "stream",
     "text": [
      "['True', 'True', 'True', 'True', 'False', 'False', 'False']\n"
     ]
    }
   ],
   "source": [
    "validationList = []\n",
    "for j in dlURIList:\n",
    "    mO = re.match(r'''https?:(//((([^\\/?#]*)@)?([^\\/?#:]*)(:([^\\/?#]*))?))?([^?#]*)/( # domain/sub-domain\n",
    "                    (00/\\d{18}$)| # SSCC\n",
    "                    (01/\\d{14}$)| # GTIN \n",
    "                    # Allowed chars in serial and lot as of GS1 DL standard: \" / % / - / . / 0-9 / A-Z / _ / a-z\n",
    "                    (01/\\d{14}/10/([\\x22\\x25\\x2d\\x2E\\x30-\\x39\\x41-\\x5A\\x5F\\x61-\\x7A]{0,20})$)| # LGTIN\n",
    "                    (01/\\d{14}/21/([\\x22\\x25\\x2d\\x2E\\x30-\\x39\\x41-\\x5A\\x5F\\x61-\\x7A]{0,20})$) # SGTIN\n",
    "                    (01/\\d{14}/235/([\\x22\\x25\\x2d\\x2E\\x30-\\x39\\x41-\\x5A\\x5F\\x61-\\x7A]{0,28})$ # UPUI\n",
    "                    \n",
    "                    \n",
    "                    ) ''', j, re.VERBOSE)\n",
    "    if mO:\n",
    "        validationList.append('True')\n",
    "    else:\n",
    "        validationList.append('False')\n",
    "print (validationList)"
   ]
  },
  {
   "cell_type": "markdown",
   "metadata": {},
   "source": [
    "Invalid examples (i.e. those returning 'False') cover the following cases:\n",
    "* GTIN not formatted as GTIN-14 (i.e. coresponding to definition of GS1 Application Identifier (AI) '01')\n",
    "* Applying short names instead of AI equivalents\n",
    "* GTIN-based GS1 DL URI comprising consumer product variant (AI '22') \n",
    "* URI containing characters that need to be percent-encoded \n",
    "* GS1 DL URI ending with a trailing slash "
   ]
  },
  {
   "cell_type": "code",
   "execution_count": null,
   "metadata": {},
   "outputs": [],
   "source": []
  }
 ],
 "metadata": {
  "kernelspec": {
   "display_name": "Python 3",
   "language": "python",
   "name": "python3"
  },
  "language_info": {
   "codemirror_mode": {
    "name": "ipython",
    "version": 3
   },
   "file_extension": ".py",
   "mimetype": "text/x-python",
   "name": "python",
   "nbconvert_exporter": "python",
   "pygments_lexer": "ipython3",
   "version": "3.7.3"
  }
 },
 "nbformat": 4,
 "nbformat_minor": 4
}
