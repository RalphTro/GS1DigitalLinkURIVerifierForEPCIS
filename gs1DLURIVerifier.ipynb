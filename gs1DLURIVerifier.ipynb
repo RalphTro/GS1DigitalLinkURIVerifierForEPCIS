{
 "cells": [
  {
   "cell_type": "code",
   "execution_count": 1,
   "metadata": {},
   "outputs": [],
   "source": [
    "import re\n",
    "import json"
   ]
  },
  {
   "cell_type": "markdown",
   "metadata": {},
   "source": [
    "The following list contains instance-level ID candidates for populating the epcList (and equivalent ID lists depending on the EPCIS event type) with constraint GS1 Digital Link URIs. "
   ]
  },
  {
   "cell_type": "code",
   "execution_count": 2,
   "metadata": {},
   "outputs": [],
   "source": [
    "dlURIEPCList = [\n",
    "    'https://id.gs1.org/00/340123451111111111',\n",
    "    'https://example.com/01/04150567890128/21/987654',\n",
    "    'https://example.com/01/04150567890128/235/UPUISERIALNUMBER987654324151',\n",
    "    'https://example.com/01/04150567890128/235/UPUISERIALNUMBER9876%2F%26%25%3C%3E%3C%3E%3C',\n",
    "    'https://id.gs1.org/253/4602443000331XYZ',\n",
    "    'https://id.gs1.org/255/0811625999996554433',\n",
    "    'https://id.gs1.org/401/401234522233ABcd',\n",
    "    'https://id.gs1.org/402/40123452223334442',\n",
    "    'http://example.info/01/04150567890128/21/987654\".-_',\n",
    "    'http://example.com/01/04150567890128/21/%2F%26%25%3C%3E%3C%3E%3C%3E%3C%3E%3C%3E%3C%3E%3C%3E%3C%3E',\n",
    "    'https://id.gs1.org/255/0811625999996554433',\n",
    "    'https://id.gs1.org/8003/03870585000552987',\n",
    "    'https://id.gs1.org/8004/0180451111ABC987',\n",
    "    'https://id.gs1.org/8010/0628165987/8011/9876',\n",
    "    'https://id.gs1.org/8017/440018922222222226', \n",
    "    'https://id.gs1.org/8018/385888700111111111',\n",
    "  \n",
    "    'https://id.gs1.org/414/4226350800008',\n",
    "    'https://example.co.uk/417/4226350800008',\n",
    "    'https://id.gs1.org/414/4280000000002/254/12',\n",
    "    'https://id.gs1.org/sscc/340123451111111111',\n",
    "    'https://id.gs1.org/00/340123451111111111/',\n",
    "    'https://www.someURL.info/01/02/03/04',\n",
    "    'https://id.gs1.org/01/9780345418913/22/344',\n",
    "    'https://id.gs1.org/01/9780345418913/22/344/10/1223/21/765tz',\n",
    "    'https://id.gs1.org/8006/123456789101100190/22/ABCD',\n",
    "    'https://example.org/01/9780345418913/21/765tz?11=221109',\n",
    "    'https://example.org/01/9780345418913/21/765tz?abc=211121',\n",
    "    'http://example.org/123/4012345ABC987/456/4711',\n",
    "    'http://id.gs1.org/01/9780345418913/99/utfgf',\n",
    "    'https://example.com/01/04150567890128/235/UPUISERIALNUMBER9876543241516161',\n",
    "    'https://example.com/01/04150567890128/21/',\n",
    "    'https://id.gs1.org/253/4602443000331',\n",
    "    '(01)04012345123456(21)987',\n",
    "    '01/04012345123456/21/987',\n",
    "    'https://example.com/01/04150567890128/ 21/',\n",
    "    'ftp://example.com/01/04150567890128/21/123',\n",
    "    'https://id.gs1.org/01/04012345123456',\n",
    "    'https://id.gs1.org/8010/0628165987/8011/abf454'\n",
    "]"
   ]
  },
  {
   "cell_type": "markdown",
   "metadata": {},
   "source": [
    "With the following regular expression, organisations can verify that an epcList (and equivalent ID lists depending on the EPCIS event type) contains valid constraint GS1 Digital Link URIs. \n",
    "The above list is passed to a re.match() function and returns a dictionary with a Boolean value for each list element. If the return value is 'False', the ID candidate is not a valid instance-level, constrained GS1 DL URI. "
   ]
  },
  {
   "cell_type": "code",
   "execution_count": 3,
   "metadata": {
    "scrolled": false
   },
   "outputs": [
    {
     "name": "stdout",
     "output_type": "stream",
     "text": [
      "{\n",
      "  \"https://id.gs1.org/00/340123451111111111\": \"True\",\n",
      "  \"https://example.com/01/04150567890128/21/987654\": \"True\",\n",
      "  \"https://example.com/01/04150567890128/235/UPUISERIALNUMBER987654324151\": \"True\",\n",
      "  \"https://example.com/01/04150567890128/235/UPUISERIALNUMBER9876%2F%26%25%3C%3E%3C%3E%3C\": \"True\",\n",
      "  \"https://id.gs1.org/253/4602443000331XYZ\": \"True\",\n",
      "  \"https://id.gs1.org/255/0811625999996554433\": \"True\",\n",
      "  \"https://id.gs1.org/401/401234522233ABcd\": \"True\",\n",
      "  \"https://id.gs1.org/402/40123452223334442\": \"True\",\n",
      "  \"http://example.info/01/04150567890128/21/987654\\\".-_\": \"True\",\n",
      "  \"http://example.com/01/04150567890128/21/%2F%26%25%3C%3E%3C%3E%3C%3E%3C%3E%3C%3E%3C%3E%3C%3E%3C%3E\": \"True\",\n",
      "  \"https://id.gs1.org/8003/03870585000552987\": \"True\",\n",
      "  \"https://id.gs1.org/8004/0180451111ABC987\": \"True\",\n",
      "  \"https://id.gs1.org/8010/0628165987/8011/9876\": \"True\",\n",
      "  \"https://id.gs1.org/8017/440018922222222226\": \"True\",\n",
      "  \"https://id.gs1.org/8018/385888700111111111\": \"True\",\n",
      "  \"https://id.gs1.org/414/4226350800008\": \"False\",\n",
      "  \"https://example.co.uk/417/4226350800008\": \"False\",\n",
      "  \"https://id.gs1.org/414/4280000000002/254/12\": \"False\",\n",
      "  \"https://id.gs1.org/sscc/340123451111111111\": \"False\",\n",
      "  \"https://id.gs1.org/00/340123451111111111/\": \"False\",\n",
      "  \"https://www.someURL.info/01/02/03/04\": \"False\",\n",
      "  \"https://id.gs1.org/01/9780345418913/22/344\": \"False\",\n",
      "  \"https://id.gs1.org/01/9780345418913/22/344/10/1223/21/765tz\": \"False\",\n",
      "  \"https://id.gs1.org/8006/123456789101100190/22/ABCD\": \"False\",\n",
      "  \"https://example.org/01/9780345418913/21/765tz?11=221109\": \"False\",\n",
      "  \"https://example.org/01/9780345418913/21/765tz?abc=211121\": \"False\",\n",
      "  \"http://example.org/123/4012345ABC987/456/4711\": \"False\",\n",
      "  \"http://id.gs1.org/01/9780345418913/99/utfgf\": \"False\",\n",
      "  \"https://example.com/01/04150567890128/235/UPUISERIALNUMBER9876543241516161\": \"False\",\n",
      "  \"https://example.com/01/04150567890128/21/\": \"False\",\n",
      "  \"https://id.gs1.org/253/4602443000331\": \"False\",\n",
      "  \"(01)04012345123456(21)987\": \"False\",\n",
      "  \"01/04012345123456/21/987\": \"False\",\n",
      "  \"https://example.com/01/04150567890128/ 21/\": \"False\",\n",
      "  \"ftp://example.com/01/04150567890128/21/123\": \"False\",\n",
      "  \"https://id.gs1.org/01/04012345123456\": \"False\",\n",
      "  \"https://id.gs1.org/8010/0628165987/8011/abf454\": \"False\"\n",
      "}\n"
     ]
    }
   ],
   "source": [
    "validatedEPCDict = {}\n",
    "entries = range(len(dlURIEPCList))\n",
    "for j in entries:\n",
    "    mO = re.match(r'''^https?:(//((([^/?#]*)@)?([^/?#:]*)(:([^/?#]*))?))?([^?#]*)/( # URI stem\n",
    "                    (00/\\d{18}$)| # SSCC\n",
    "                    # Allowed characters in alphanumeric serial/lot reference as of GS1 DL standard:\n",
    "                    # \" / % / - / . / 0-9 / A-Z / _ / a-z\n",
    "                    (01/\\d{14}/21/([\\w\\\".-]|%2[a-cA-CfF15-9]|%3[a-fA-F]){1,20}$)| # SGTIN      \n",
    "                    (01/\\d{14}/235/([\\w\\\".-]|%2[a-cA-CfF15-9]|%3[a-fA-F]){1,28}$)| # UPUI\n",
    "                    (253/\\d{13}([\\w\\\".-]|%2[a-cA-CfF15-9]|%3[a-fA-F]){1,17}$)| # GDTI with serial \n",
    "                    (255/\\d{14,25}$)| # SGCN with serial  \n",
    "                    # Rationale for first 4 digits in GINC, GIAI, CPI: GCP >= 4 digits\n",
    "                    (401/\\d{4}(?:[\\w\\\".-]|%2[a-cA-CfF15-9]|%3[a-fA-F]){1,26}$)| # GINC \n",
    "                    (402/\\d{17}$)| # GSIN \n",
    "                    (8003/\\d{14}([\\w\".-]|%2[a-cA-CfF15-9]|%3[a-fA-F]){1,16}$)| # GRAI with serial                 \n",
    "                    (8004/\\d{4}(?:[\\w\\\".-]|%2[a-cA-CfF15-9]|%3[a-fA-F]){1,26}$)| # GIAI\n",
    "                    (8006/\\d{18}/21/([\\w\".-]|%2[a-cA-CfF15-9]|%3[a-fA-F]){1,20}$)| # ITIP                  \n",
    "                    (8010/\\d{4}(?:[A-Z0-9-]|%2[3fF]){1,26}/8011/\\d{1,12}$)| # CPI\n",
    "                    (8017/\\d{18}$)| # GSRN\n",
    "                    (8018/\\d{18}$) # GSRNP\n",
    "                    ) ''', dlURIEPCList[j], re.VERBOSE)\n",
    "    if mO:\n",
    "        validatedEPCDict[dlURIEPCList[j]] = 'True'\n",
    "    else:\n",
    "        validatedEPCDict[dlURIEPCList[j]] = 'False'\n",
    "print (json.dumps(validatedEPCDict, indent = 2))"
   ]
  },
  {
   "cell_type": "markdown",
   "metadata": {},
   "source": [
    "The following list contains class-level ID candidates for populating the quantityList (and equivalent ID lists depending on the EPCIS event type) with constraint GS1 Digital Link URIs."
   ]
  },
  {
   "cell_type": "code",
   "execution_count": 4,
   "metadata": {},
   "outputs": [],
   "source": [
    "dlURIQtyList = [\n",
    "    'https://id.gs1.org/01/04012345123456',\n",
    "    'https://gs1.dl.uri.with.a.lot.of.sub.domains.test.example.org/01/09780345418913/10/1223',\n",
    "    'https://id.firma.info/01/04012345123456/10/ABC',\n",
    "    'http://www.id.example.de/01/04012345123456',\n",
    "    'https://id.gs1.org/253/4602443000331',\n",
    "    'https://id.gs1.org/255/0811625999996',\n",
    "    'https://id.gs1.org/8003/04012345555554',\n",
    "    'https://id.gs1.org/8010/0628165987',\n",
    "    \n",
    "    'https://id.example.com/01/4012345123456',\n",
    "    'http://us-company-with-UPC.com/01/001122334455/ser/GHB',\n",
    "    'https://id.gs1.org/01/12345670',\n",
    "    'https://id.gs1.org/01/9780345418913/10/Lot1/21/Ser2',\n",
    "    'https://id.gs1.org/01/9780345418913/22/344/10/1223/21/765tz',\n",
    "    'https://id.gs1.org/01/9780345418913/10/Lot666/21/Ser888',\n",
    "    'https://id.gs1.org/8010/0628165987/8011/65444'\n",
    "]"
   ]
  },
  {
   "cell_type": "markdown",
   "metadata": {},
   "source": [
    "With the following regular expression, organisations can verify that a quantityList (and equivalent ID lists depending on the EPCIS event type) contains valid constraint GS1 Digital Link URIs. The above list is passed to a re.match() function and returns a dictionary with a Booloean value for each list element. If the return value is 'False', the ID candidate is not a valid class-level, constrained GS1 DL URI."
   ]
  },
  {
   "cell_type": "code",
   "execution_count": 5,
   "metadata": {},
   "outputs": [
    {
     "name": "stdout",
     "output_type": "stream",
     "text": [
      "{\n",
      "  \"https://id.gs1.org/01/04012345123456\": \"True\",\n",
      "  \"https://gs1.dl.uri.with.a.lot.of.sub.domains.test.example.org/01/09780345418913/10/1223\": \"True\",\n",
      "  \"https://id.firma.info/01/04012345123456/10/ABC\": \"True\",\n",
      "  \"http://www.id.example.de/01/04012345123456\": \"True\",\n",
      "  \"https://id.gs1.org/253/4602443000331\": \"True\",\n",
      "  \"https://id.gs1.org/255/0811625999996\": \"True\",\n",
      "  \"https://id.gs1.org/8003/04012345555554\": \"True\",\n",
      "  \"https://id.gs1.org/8010/0628165987\": \"True\",\n",
      "  \"https://id.example.com/01/4012345123456\": \"False\",\n",
      "  \"http://us-company-with-UPC.com/01/001122334455/ser/GHB\": \"False\",\n",
      "  \"https://id.gs1.org/01/12345670\": \"False\",\n",
      "  \"https://id.gs1.org/01/9780345418913/10/Lot1/21/Ser2\": \"False\",\n",
      "  \"https://id.gs1.org/01/9780345418913/22/344/10/1223/21/765tz\": \"False\",\n",
      "  \"https://id.gs1.org/01/9780345418913/10/Lot666/21/Ser888\": \"False\",\n",
      "  \"https://id.gs1.org/8010/0628165987/8011/65444\": \"False\"\n",
      "}\n"
     ]
    }
   ],
   "source": [
    "validatedQtyList = {}\n",
    "entries = range(len(dlURIQtyList))\n",
    "for j in entries:\n",
    "    mO = re.match(r'''^https?:(//((([^/?#]*)@)?([^/?#:]*)(:([^/?#]*))?))?([^?#]*)/( # URI stem\n",
    "                    (01/\\d{14}$)| # GTIN without serial                \n",
    "                    (01/\\d{14}/10/([\\w\\\".-]|%2[a-cA-CfF15-9]|%3[a-fA-F]){1,20}$)| # LGTIN\n",
    "                    (253/\\d{13}$)| # GDTI without serial\n",
    "                    (255/\\d{13}$)| # SGCN without serial\n",
    "                    (8003/\\d{14}$)| # GRAI without serial                 \n",
    "                    (8010/\\d{4}(?:[A-Z0-9-]|%2[3fF]){1,26}$) # CPI without serial\n",
    "                    ) ''', dlURIQtyList[j], re.VERBOSE)\n",
    "    if mO:\n",
    "        validatedQtyList[dlURIQtyList[j]] = 'True'\n",
    "    else:\n",
    "        validatedQtyList[dlURIQtyList[j]] = 'False'\n",
    "print (json.dumps(validatedQtyList, indent = 2))"
   ]
  },
  {
   "cell_type": "markdown",
   "metadata": {},
   "source": [
    "The following list contains ID candidates for populating the readPoint/bizLocation/sourceList/destinationList with constraint GS1 Digital Link URIs."
   ]
  },
  {
   "cell_type": "code",
   "execution_count": 6,
   "metadata": {},
   "outputs": [],
   "source": [
    "dlURILoPaList = [\n",
    "    'https://id.gs1.org/414/4280000000002/254/12',\n",
    "    'https://id.gs1.org/414/4226350800008',\n",
    "    'https://id.gs1.org/417/4012345999990',\n",
    "    \n",
    "    'https://id.gs1.org/414/4226350800008/',\n",
    "    'https://id.gs1.org/417/401234599999',\n",
    "    'https://id.gs1.org/gln/4226350800008',\n",
    "    'https://id.gs1.org/414/4280000000002/glnx/12',\n",
    "    'https://id.gs1.org/party/4012345999990'\n",
    "]"
   ]
  },
  {
   "cell_type": "markdown",
   "metadata": {},
   "source": [
    "With the following regular expression, organisations can verify that a sourceList/destinationList, readPoint and bizLocation is populated with valid constraint GS1 Digital Link URIs. The above list is passed to a re.match() function and returns a dictionary with a Booloean value for each list element. If the return value is 'False', the ID candidate is not a valid class-level, constrained GS1 DL URI."
   ]
  },
  {
   "cell_type": "code",
   "execution_count": 7,
   "metadata": {},
   "outputs": [
    {
     "name": "stdout",
     "output_type": "stream",
     "text": [
      "{\n",
      "  \"https://id.gs1.org/414/4280000000002/254/12\": \"True\",\n",
      "  \"https://id.gs1.org/414/4226350800008\": \"True\",\n",
      "  \"https://id.gs1.org/417/4012345999990\": \"True\",\n",
      "  \"https://id.gs1.org/414/4226350800008/\": \"False\",\n",
      "  \"https://id.gs1.org/417/401234599999\": \"False\",\n",
      "  \"https://id.gs1.org/gln/4226350800008\": \"False\",\n",
      "  \"https://id.gs1.org/414/4280000000002/glnx/12\": \"False\",\n",
      "  \"https://id.gs1.org/party/4012345999990\": \"False\"\n",
      "}\n"
     ]
    }
   ],
   "source": [
    "validatedLoPaList = {}\n",
    "entries = range(len(dlURILoPaList))\n",
    "for j in entries:\n",
    "    mO = re.match(r'''^https?:(//((([^/?#]*)@)?([^/?#:]*)(:([^/?#]*))?))?([^?#]*)/( # URI stem\n",
    "                    (414/\\d{13}$)| # GLN without extension\n",
    "                    (414/\\d{13}/254/([\\w\\\".-]|%2[a-cA-CfF15-9]|%3[a-fA-F]){1,20}$)| # GLN with extension\n",
    "                    (417/\\d{13}$) # Party GLN\n",
    "                    ) ''', dlURILoPaList[j], re.VERBOSE)\n",
    "    if mO:\n",
    "        validatedLoPaList[dlURILoPaList[j]] = 'True'\n",
    "    else:\n",
    "        validatedLoPaList[dlURILoPaList[j]] = 'False'\n",
    "print (json.dumps(validatedLoPaList, indent = 2))"
   ]
  }
 ],
 "metadata": {
  "kernelspec": {
   "display_name": "Python 3",
   "language": "python",
   "name": "python3"
  },
  "language_info": {
   "codemirror_mode": {
    "name": "ipython",
    "version": 3
   },
   "file_extension": ".py",
   "mimetype": "text/x-python",
   "name": "python",
   "nbconvert_exporter": "python",
   "pygments_lexer": "ipython3",
   "version": "3.7.3"
  }
 },
 "nbformat": 4,
 "nbformat_minor": 4
}
